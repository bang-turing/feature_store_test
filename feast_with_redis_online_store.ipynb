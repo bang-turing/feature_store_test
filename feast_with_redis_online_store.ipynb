{
 "cells": [
  {
   "cell_type": "markdown",
   "id": "619e66ef",
   "metadata": {},
   "source": [
    "## Demo update online feature store with write_to_online_store method\n",
    "\n",
    "To ensure no down time happend when we update feature(value or type). We can follow these steps\n",
    "\n",
    "1. Update offline feature store/registry\n",
    "2. Get offline feature(date=today) that need to be replaced\n",
    "3. Load the dataframe(step 2) into online feature store with write_to_online_store method"
   ]
  },
  {
   "cell_type": "code",
   "execution_count": 10,
   "id": "7aacdc39",
   "metadata": {},
   "outputs": [
    {
     "data": {
      "text/plain": [
       "True"
      ]
     },
     "execution_count": 10,
     "metadata": {},
     "output_type": "execute_result"
    }
   ],
   "source": [
    "## Check redis online store connection\n",
    "import redis\n",
    "import pandas as pd\n",
    "port = 6379\n",
    "client = redis.Redis(host = \"cache\", port = port)\n",
    "client.ping()"
   ]
  },
  {
   "cell_type": "markdown",
   "id": "b2671ff9",
   "metadata": {},
   "source": [
    "### Initialize online feature store"
   ]
  },
  {
   "cell_type": "code",
   "execution_count": 11,
   "id": "845b181d",
   "metadata": {},
   "outputs": [
    {
     "name": "stdout",
     "output_type": "stream",
     "text": [
      "[Errno 2] No such file or directory: 'feature_repo'\n",
      "/usr/src/feature_repo\n"
     ]
    }
   ],
   "source": [
    "%cd feature_repo\n",
    "!feast teardown"
   ]
  },
  {
   "cell_type": "code",
   "execution_count": 12,
   "id": "a4988511",
   "metadata": {},
   "outputs": [],
   "source": [
    "# Copy initial data to materilize \n",
    "!cp data/original_driver_stats.parquet data/driver_stats.parquet"
   ]
  },
  {
   "cell_type": "code",
   "execution_count": 13,
   "id": "f6fdcd76",
   "metadata": {},
   "outputs": [
    {
     "data": {
      "text/html": [
       "<div>\n",
       "<style scoped>\n",
       "    .dataframe tbody tr th:only-of-type {\n",
       "        vertical-align: middle;\n",
       "    }\n",
       "\n",
       "    .dataframe tbody tr th {\n",
       "        vertical-align: top;\n",
       "    }\n",
       "\n",
       "    .dataframe thead th {\n",
       "        text-align: right;\n",
       "    }\n",
       "</style>\n",
       "<table border=\"1\" class=\"dataframe\">\n",
       "  <thead>\n",
       "    <tr style=\"text-align: right;\">\n",
       "      <th></th>\n",
       "      <th>driver_id</th>\n",
       "      <th>avg_daily_trips</th>\n",
       "    </tr>\n",
       "  </thead>\n",
       "  <tbody>\n",
       "    <tr>\n",
       "      <th>0</th>\n",
       "      <td>1005</td>\n",
       "      <td>682</td>\n",
       "    </tr>\n",
       "    <tr>\n",
       "      <th>1</th>\n",
       "      <td>1005</td>\n",
       "      <td>656</td>\n",
       "    </tr>\n",
       "    <tr>\n",
       "      <th>2</th>\n",
       "      <td>1005</td>\n",
       "      <td>649</td>\n",
       "    </tr>\n",
       "    <tr>\n",
       "      <th>3</th>\n",
       "      <td>1005</td>\n",
       "      <td>346</td>\n",
       "    </tr>\n",
       "    <tr>\n",
       "      <th>4</th>\n",
       "      <td>1005</td>\n",
       "      <td>878</td>\n",
       "    </tr>\n",
       "    <tr>\n",
       "      <th>...</th>\n",
       "      <td>...</td>\n",
       "      <td>...</td>\n",
       "    </tr>\n",
       "    <tr>\n",
       "      <th>1802</th>\n",
       "      <td>1001</td>\n",
       "      <td>488</td>\n",
       "    </tr>\n",
       "    <tr>\n",
       "      <th>1803</th>\n",
       "      <td>1001</td>\n",
       "      <td>966</td>\n",
       "    </tr>\n",
       "    <tr>\n",
       "      <th>1804</th>\n",
       "      <td>1001</td>\n",
       "      <td>74</td>\n",
       "    </tr>\n",
       "    <tr>\n",
       "      <th>1805</th>\n",
       "      <td>1003</td>\n",
       "      <td>52</td>\n",
       "    </tr>\n",
       "    <tr>\n",
       "      <th>1806</th>\n",
       "      <td>1003</td>\n",
       "      <td>52</td>\n",
       "    </tr>\n",
       "  </tbody>\n",
       "</table>\n",
       "<p>1807 rows × 2 columns</p>\n",
       "</div>"
      ],
      "text/plain": [
       "      driver_id  avg_daily_trips\n",
       "0          1005              682\n",
       "1          1005              656\n",
       "2          1005              649\n",
       "3          1005              346\n",
       "4          1005              878\n",
       "...         ...              ...\n",
       "1802       1001              488\n",
       "1803       1001              966\n",
       "1804       1001               74\n",
       "1805       1003               52\n",
       "1806       1003               52\n",
       "\n",
       "[1807 rows x 2 columns]"
      ]
     },
     "execution_count": 13,
     "metadata": {},
     "output_type": "execute_result"
    }
   ],
   "source": [
    "# Checking the initial data\n",
    "data = pd.read_parquet(\"data/driver_stats.parquet\")\n",
    "data[[\"driver_id\", \"avg_daily_trips\"]]"
   ]
  },
  {
   "cell_type": "code",
   "execution_count": 14,
   "id": "c4ff98cf",
   "metadata": {},
   "outputs": [
    {
     "name": "stdout",
     "output_type": "stream",
     "text": [
      "Created entity \u001b[1m\u001b[32mdriver_id\u001b[0m\r\n",
      "Created feature view \u001b[1m\u001b[32mdriver_hourly_stats\u001b[0m\r\n",
      "\r\n",
      "Deploying infrastructure for \u001b[1m\u001b[32mdriver_hourly_stats\u001b[0m\r\n"
     ]
    }
   ],
   "source": [
    "# enable direct load to online store(I set it up already in the config)\n",
    "!feast alpha enable direct_ingest_to_online_store\n",
    "!feast apply"
   ]
  },
  {
   "cell_type": "code",
   "execution_count": 15,
   "id": "92073ce8",
   "metadata": {},
   "outputs": [
    {
     "name": "stdout",
     "output_type": "stream",
     "text": [
      "Materializing \u001b[1m\u001b[32m1\u001b[0m feature views from \u001b[1m\u001b[32m2019-12-04 00:00:00+00:00\u001b[0m to \u001b[1m\u001b[32m2022-04-21 14:50:06+00:00\u001b[0m into the \u001b[1m\u001b[32mredis\u001b[0m online store.\n",
      "\n",
      "\u001b[1m\u001b[32mdriver_hourly_stats\u001b[0m:\n",
      "100%|███████████████████████████████████████████████████████████████| 5/5 [00:00<00:00, 1518.14it/s]\n"
     ]
    }
   ],
   "source": [
    "from datetime import datetime, date\n",
    "# !feast materialize-incremental {datetime.now().isoformat()}\n",
    "!feast materialize {date.fromisoformat('2019-12-04')} {datetime.now().isoformat()}"
   ]
  },
  {
   "cell_type": "code",
   "execution_count": 16,
   "id": "ef5e84f4",
   "metadata": {},
   "outputs": [],
   "source": [
    "# get current online features\n",
    "from pprint import pprint\n",
    "from feast import FeatureStore\n",
    "store = FeatureStore(repo_path=\".\")\n",
    "\n",
    "def get_online_features():\n",
    "\n",
    "    feature_vector = store.get_online_features(\n",
    "        features=[\n",
    "            \"driver_hourly_stats:avg_daily_trips\",\n",
    "        ],\n",
    "        entity_rows=[\n",
    "            {\"driver_id\": 1001},\n",
    "            {\"driver_id\": 1002},\n",
    "            {\"driver_id\": 1003},\n",
    "            {\"driver_id\": 1004},\n",
    "            {\"driver_id\": 1005},\n",
    "        ],\n",
    "    ).to_dict()\n",
    "    return feature_vector\n",
    "features = get_online_features()"
   ]
  },
  {
   "cell_type": "code",
   "execution_count": 17,
   "id": "d90c82de",
   "metadata": {},
   "outputs": [
    {
     "data": {
      "text/html": [
       "<div>\n",
       "<style scoped>\n",
       "    .dataframe tbody tr th:only-of-type {\n",
       "        vertical-align: middle;\n",
       "    }\n",
       "\n",
       "    .dataframe tbody tr th {\n",
       "        vertical-align: top;\n",
       "    }\n",
       "\n",
       "    .dataframe thead th {\n",
       "        text-align: right;\n",
       "    }\n",
       "</style>\n",
       "<table border=\"1\" class=\"dataframe\">\n",
       "  <thead>\n",
       "    <tr style=\"text-align: right;\">\n",
       "      <th></th>\n",
       "      <th>driver_id</th>\n",
       "      <th>avg_daily_trips</th>\n",
       "    </tr>\n",
       "  </thead>\n",
       "  <tbody>\n",
       "    <tr>\n",
       "      <th>0</th>\n",
       "      <td>1001</td>\n",
       "      <td>966</td>\n",
       "    </tr>\n",
       "    <tr>\n",
       "      <th>1</th>\n",
       "      <td>1002</td>\n",
       "      <td>314</td>\n",
       "    </tr>\n",
       "    <tr>\n",
       "      <th>2</th>\n",
       "      <td>1003</td>\n",
       "      <td>506</td>\n",
       "    </tr>\n",
       "    <tr>\n",
       "      <th>3</th>\n",
       "      <td>1004</td>\n",
       "      <td>256</td>\n",
       "    </tr>\n",
       "    <tr>\n",
       "      <th>4</th>\n",
       "      <td>1005</td>\n",
       "      <td>387</td>\n",
       "    </tr>\n",
       "  </tbody>\n",
       "</table>\n",
       "</div>"
      ],
      "text/plain": [
       "   driver_id  avg_daily_trips\n",
       "0       1001              966\n",
       "1       1002              314\n",
       "2       1003              506\n",
       "3       1004              256\n",
       "4       1005              387"
      ]
     },
     "execution_count": 17,
     "metadata": {},
     "output_type": "execute_result"
    }
   ],
   "source": [
    "# show the current avg_daily_trips feature \n",
    "pd.DataFrame.from_dict(features)"
   ]
  },
  {
   "cell_type": "code",
   "execution_count": 18,
   "id": "db54d610",
   "metadata": {},
   "outputs": [
    {
     "name": "stdout",
     "output_type": "stream",
     "text": [
      "<class 'int'>\n"
     ]
    }
   ],
   "source": [
    "print(type(features[\"avg_daily_trips\"][0]))\n",
    "# value < 1000, type = int\n",
    "# the next section will show how to update this feature"
   ]
  },
  {
   "cell_type": "markdown",
   "id": "4b199055",
   "metadata": {},
   "source": [
    "## Update online store without down time\n",
    "\n",
    "In this section we will change \n",
    "1. avg_daily_trips=3*avg_daily_trips\n",
    "2. Type: int -> float"
   ]
  },
  {
   "cell_type": "markdown",
   "id": "31659fe5",
   "metadata": {},
   "source": [
    "\n",
    "### 1. Update offline feature store/registry\n"
   ]
  },
  {
   "cell_type": "code",
   "execution_count": 19,
   "id": "4903f509",
   "metadata": {},
   "outputs": [],
   "source": [
    "# remove the old offline data and replace with new data\n",
    "!rm data/driver_stats.parquet\n",
    "!cp data/updated_driver_stats.parquet data/driver_stats.parquet"
   ]
  },
  {
   "cell_type": "code",
   "execution_count": 20,
   "id": "e12e4c7e",
   "metadata": {},
   "outputs": [
    {
     "data": {
      "text/html": [
       "<div>\n",
       "<style scoped>\n",
       "    .dataframe tbody tr th:only-of-type {\n",
       "        vertical-align: middle;\n",
       "    }\n",
       "\n",
       "    .dataframe tbody tr th {\n",
       "        vertical-align: top;\n",
       "    }\n",
       "\n",
       "    .dataframe thead th {\n",
       "        text-align: right;\n",
       "    }\n",
       "</style>\n",
       "<table border=\"1\" class=\"dataframe\">\n",
       "  <thead>\n",
       "    <tr style=\"text-align: right;\">\n",
       "      <th></th>\n",
       "      <th>driver_id</th>\n",
       "      <th>avg_daily_trips</th>\n",
       "    </tr>\n",
       "  </thead>\n",
       "  <tbody>\n",
       "    <tr>\n",
       "      <th>0</th>\n",
       "      <td>1005</td>\n",
       "      <td>20460.0</td>\n",
       "    </tr>\n",
       "    <tr>\n",
       "      <th>1</th>\n",
       "      <td>1005</td>\n",
       "      <td>19680.0</td>\n",
       "    </tr>\n",
       "    <tr>\n",
       "      <th>2</th>\n",
       "      <td>1005</td>\n",
       "      <td>19470.0</td>\n",
       "    </tr>\n",
       "    <tr>\n",
       "      <th>3</th>\n",
       "      <td>1005</td>\n",
       "      <td>10380.0</td>\n",
       "    </tr>\n",
       "    <tr>\n",
       "      <th>4</th>\n",
       "      <td>1005</td>\n",
       "      <td>26340.0</td>\n",
       "    </tr>\n",
       "    <tr>\n",
       "      <th>...</th>\n",
       "      <td>...</td>\n",
       "      <td>...</td>\n",
       "    </tr>\n",
       "    <tr>\n",
       "      <th>1802</th>\n",
       "      <td>1001</td>\n",
       "      <td>14640.0</td>\n",
       "    </tr>\n",
       "    <tr>\n",
       "      <th>1803</th>\n",
       "      <td>1001</td>\n",
       "      <td>28980.0</td>\n",
       "    </tr>\n",
       "    <tr>\n",
       "      <th>1804</th>\n",
       "      <td>1001</td>\n",
       "      <td>2220.0</td>\n",
       "    </tr>\n",
       "    <tr>\n",
       "      <th>1805</th>\n",
       "      <td>1003</td>\n",
       "      <td>1560.0</td>\n",
       "    </tr>\n",
       "    <tr>\n",
       "      <th>1806</th>\n",
       "      <td>1003</td>\n",
       "      <td>1560.0</td>\n",
       "    </tr>\n",
       "  </tbody>\n",
       "</table>\n",
       "<p>1807 rows × 2 columns</p>\n",
       "</div>"
      ],
      "text/plain": [
       "      driver_id  avg_daily_trips\n",
       "0          1005          20460.0\n",
       "1          1005          19680.0\n",
       "2          1005          19470.0\n",
       "3          1005          10380.0\n",
       "4          1005          26340.0\n",
       "...         ...              ...\n",
       "1802       1001          14640.0\n",
       "1803       1001          28980.0\n",
       "1804       1001           2220.0\n",
       "1805       1003           1560.0\n",
       "1806       1003           1560.0\n",
       "\n",
       "[1807 rows x 2 columns]"
      ]
     },
     "execution_count": 20,
     "metadata": {},
     "output_type": "execute_result"
    }
   ],
   "source": [
    "# Checking the updated data\n",
    "data = pd.read_parquet(\"data/driver_stats.parquet\")\n",
    "data[[\"driver_id\", \"avg_daily_trips\"]]\n",
    "# new data have value x3 and the type int->float"
   ]
  },
  {
   "cell_type": "code",
   "execution_count": 21,
   "id": "afdbb78d",
   "metadata": {},
   "outputs": [
    {
     "data": {
      "text/html": [
       "<div>\n",
       "<style scoped>\n",
       "    .dataframe tbody tr th:only-of-type {\n",
       "        vertical-align: middle;\n",
       "    }\n",
       "\n",
       "    .dataframe tbody tr th {\n",
       "        vertical-align: top;\n",
       "    }\n",
       "\n",
       "    .dataframe thead th {\n",
       "        text-align: right;\n",
       "    }\n",
       "</style>\n",
       "<table border=\"1\" class=\"dataframe\">\n",
       "  <thead>\n",
       "    <tr style=\"text-align: right;\">\n",
       "      <th></th>\n",
       "      <th>driver_id</th>\n",
       "      <th>avg_daily_trips</th>\n",
       "    </tr>\n",
       "  </thead>\n",
       "  <tbody>\n",
       "    <tr>\n",
       "      <th>0</th>\n",
       "      <td>1001</td>\n",
       "      <td>966</td>\n",
       "    </tr>\n",
       "    <tr>\n",
       "      <th>1</th>\n",
       "      <td>1002</td>\n",
       "      <td>314</td>\n",
       "    </tr>\n",
       "    <tr>\n",
       "      <th>2</th>\n",
       "      <td>1003</td>\n",
       "      <td>506</td>\n",
       "    </tr>\n",
       "    <tr>\n",
       "      <th>3</th>\n",
       "      <td>1004</td>\n",
       "      <td>256</td>\n",
       "    </tr>\n",
       "    <tr>\n",
       "      <th>4</th>\n",
       "      <td>1005</td>\n",
       "      <td>387</td>\n",
       "    </tr>\n",
       "  </tbody>\n",
       "</table>\n",
       "</div>"
      ],
      "text/plain": [
       "   driver_id  avg_daily_trips\n",
       "0       1001              966\n",
       "1       1002              314\n",
       "2       1003              506\n",
       "3       1004              256\n",
       "4       1005              387"
      ]
     },
     "execution_count": 21,
     "metadata": {},
     "output_type": "execute_result"
    }
   ],
   "source": [
    "# verify the current online store state\n",
    "features = get_online_features()\n",
    "pd.DataFrame.from_dict(features)"
   ]
  },
  {
   "cell_type": "code",
   "execution_count": 22,
   "id": "db7de715",
   "metadata": {},
   "outputs": [
    {
     "name": "stdout",
     "output_type": "stream",
     "text": [
      "<class 'int'>\n"
     ]
    }
   ],
   "source": [
    "pprint(type(features[\"avg_daily_trips\"][0]))\n",
    "# the value and type still the same as the old data"
   ]
  },
  {
   "cell_type": "markdown",
   "id": "3b34b333",
   "metadata": {},
   "source": [
    "### 2. Get offline feature(date=today) that need to be replaced"
   ]
  },
  {
   "cell_type": "code",
   "execution_count": 16,
   "id": "1aa8c1b8",
   "metadata": {},
   "outputs": [
    {
     "data": {
      "text/html": [
       "<div>\n",
       "<style scoped>\n",
       "    .dataframe tbody tr th:only-of-type {\n",
       "        vertical-align: middle;\n",
       "    }\n",
       "\n",
       "    .dataframe tbody tr th {\n",
       "        vertical-align: top;\n",
       "    }\n",
       "\n",
       "    .dataframe thead th {\n",
       "        text-align: right;\n",
       "    }\n",
       "</style>\n",
       "<table border=\"1\" class=\"dataframe\">\n",
       "  <thead>\n",
       "    <tr style=\"text-align: right;\">\n",
       "      <th></th>\n",
       "      <th>driver_id</th>\n",
       "      <th>event_timestamp</th>\n",
       "      <th>conv_rate</th>\n",
       "      <th>acc_rate</th>\n",
       "      <th>avg_daily_trips</th>\n",
       "      <th>created</th>\n",
       "    </tr>\n",
       "  </thead>\n",
       "  <tbody>\n",
       "    <tr>\n",
       "      <th>720</th>\n",
       "      <td>1002</td>\n",
       "      <td>2022-04-21 14:35:42.282081+00:00</td>\n",
       "      <td>0.651089</td>\n",
       "      <td>0.426752</td>\n",
       "      <td>9420.0</td>\n",
       "      <td>2022-04-21 14:35:42.523725</td>\n",
       "    </tr>\n",
       "    <tr>\n",
       "      <th>1081</th>\n",
       "      <td>1003</td>\n",
       "      <td>2022-04-21 14:35:42.282081+00:00</td>\n",
       "      <td>0.975326</td>\n",
       "      <td>0.216540</td>\n",
       "      <td>15180.0</td>\n",
       "      <td>2022-04-21 14:35:42.523725</td>\n",
       "    </tr>\n",
       "    <tr>\n",
       "      <th>359</th>\n",
       "      <td>1001</td>\n",
       "      <td>2022-04-21 14:35:42.282078+00:00</td>\n",
       "      <td>0.349679</td>\n",
       "      <td>0.015979</td>\n",
       "      <td>28980.0</td>\n",
       "      <td>2022-04-21 14:35:42.523725</td>\n",
       "    </tr>\n",
       "    <tr>\n",
       "      <th>1444</th>\n",
       "      <td>1004</td>\n",
       "      <td>2022-04-21 14:35:42.282082+00:00</td>\n",
       "      <td>0.277619</td>\n",
       "      <td>0.206873</td>\n",
       "      <td>7680.0</td>\n",
       "      <td>2022-04-21 14:35:42.523725</td>\n",
       "    </tr>\n",
       "    <tr>\n",
       "      <th>1805</th>\n",
       "      <td>1005</td>\n",
       "      <td>2022-04-21 14:35:42.282082+00:00</td>\n",
       "      <td>0.598443</td>\n",
       "      <td>0.863169</td>\n",
       "      <td>11610.0</td>\n",
       "      <td>2022-04-21 14:35:42.523725</td>\n",
       "    </tr>\n",
       "  </tbody>\n",
       "</table>\n",
       "</div>"
      ],
      "text/plain": [
       "      driver_id                  event_timestamp  conv_rate  acc_rate  \\\n",
       "720        1002 2022-04-21 14:35:42.282081+00:00   0.651089  0.426752   \n",
       "1081       1003 2022-04-21 14:35:42.282081+00:00   0.975326  0.216540   \n",
       "359        1001 2022-04-21 14:35:42.282078+00:00   0.349679  0.015979   \n",
       "1444       1004 2022-04-21 14:35:42.282082+00:00   0.277619  0.206873   \n",
       "1805       1005 2022-04-21 14:35:42.282082+00:00   0.598443  0.863169   \n",
       "\n",
       "      avg_daily_trips                    created  \n",
       "720            9420.0 2022-04-21 14:35:42.523725  \n",
       "1081          15180.0 2022-04-21 14:35:42.523725  \n",
       "359           28980.0 2022-04-21 14:35:42.523725  \n",
       "1444           7680.0 2022-04-21 14:35:42.523725  \n",
       "1805          11610.0 2022-04-21 14:35:42.523725  "
      ]
     },
     "execution_count": 16,
     "metadata": {},
     "output_type": "execute_result"
    }
   ],
   "source": [
    "from datetime import datetime\n",
    "entity_df = pd.DataFrame.from_dict(\n",
    "    {\n",
    "        \"driver_id\": [1001, 1002, 1003, 1004, 1005],\n",
    "        \"event_timestamp\": [\n",
    "            datetime.now(),\n",
    "            datetime.now(),\n",
    "            datetime.now(),\n",
    "            datetime.now(),\n",
    "            datetime.now(),\n",
    "        ],\n",
    "    }\n",
    ")\n",
    "\n",
    "training_df = store.get_historical_features(\n",
    "    entity_df=entity_df,\n",
    "    features=[\n",
    "        \"driver_hourly_stats:conv_rate\",\n",
    "        \"driver_hourly_stats:acc_rate\",\n",
    "        \"driver_hourly_stats:avg_daily_trips\",\n",
    "    ],\n",
    ").to_df()\n",
    "\n",
    "training_df[\"created\"] = datetime.now()\n",
    "training_df"
   ]
  },
  {
   "cell_type": "markdown",
   "id": "d0c05d6b",
   "metadata": {},
   "source": [
    "### 3. Load the dataframe(step 2) into online feature store with write_to_online_store method"
   ]
  },
  {
   "cell_type": "code",
   "execution_count": 17,
   "id": "5d7e67fb",
   "metadata": {},
   "outputs": [],
   "source": [
    "store.write_to_online_store(\"driver_hourly_stats\", training_df)"
   ]
  },
  {
   "cell_type": "code",
   "execution_count": 23,
   "id": "38e445f3",
   "metadata": {},
   "outputs": [
    {
     "data": {
      "text/html": [
       "<div>\n",
       "<style scoped>\n",
       "    .dataframe tbody tr th:only-of-type {\n",
       "        vertical-align: middle;\n",
       "    }\n",
       "\n",
       "    .dataframe tbody tr th {\n",
       "        vertical-align: top;\n",
       "    }\n",
       "\n",
       "    .dataframe thead th {\n",
       "        text-align: right;\n",
       "    }\n",
       "</style>\n",
       "<table border=\"1\" class=\"dataframe\">\n",
       "  <thead>\n",
       "    <tr style=\"text-align: right;\">\n",
       "      <th></th>\n",
       "      <th>driver_id</th>\n",
       "      <th>avg_daily_trips</th>\n",
       "    </tr>\n",
       "  </thead>\n",
       "  <tbody>\n",
       "    <tr>\n",
       "      <th>0</th>\n",
       "      <td>1001</td>\n",
       "      <td>28980</td>\n",
       "    </tr>\n",
       "    <tr>\n",
       "      <th>1</th>\n",
       "      <td>1002</td>\n",
       "      <td>9420</td>\n",
       "    </tr>\n",
       "    <tr>\n",
       "      <th>2</th>\n",
       "      <td>1003</td>\n",
       "      <td>15180</td>\n",
       "    </tr>\n",
       "    <tr>\n",
       "      <th>3</th>\n",
       "      <td>1004</td>\n",
       "      <td>7680</td>\n",
       "    </tr>\n",
       "    <tr>\n",
       "      <th>4</th>\n",
       "      <td>1005</td>\n",
       "      <td>11610</td>\n",
       "    </tr>\n",
       "  </tbody>\n",
       "</table>\n",
       "</div>"
      ],
      "text/plain": [
       "   driver_id  avg_daily_trips\n",
       "0       1001            28980\n",
       "1       1002             9420\n",
       "2       1003            15180\n",
       "3       1004             7680\n",
       "4       1005            11610"
      ]
     },
     "execution_count": 23,
     "metadata": {},
     "output_type": "execute_result"
    }
   ],
   "source": [
    "# verify the current online store state\n",
    "features = get_online_features()\n",
    "pd.DataFrame.from_dict(features)"
   ]
  },
  {
   "cell_type": "code",
   "execution_count": 24,
   "id": "d346bf16",
   "metadata": {},
   "outputs": [],
   "source": [
    "# the value had change according to new offline store. This also work with type"
   ]
  },
  {
   "cell_type": "code",
   "execution_count": null,
   "id": "36bda7c8",
   "metadata": {},
   "outputs": [],
   "source": []
  },
  {
   "cell_type": "code",
   "execution_count": null,
   "id": "33904c49",
   "metadata": {},
   "outputs": [],
   "source": []
  }
 ],
 "metadata": {
  "kernelspec": {
   "display_name": "Python 3 (ipykernel)",
   "language": "python",
   "name": "python3"
  },
  "language_info": {
   "codemirror_mode": {
    "name": "ipython",
    "version": 3
   },
   "file_extension": ".py",
   "mimetype": "text/x-python",
   "name": "python",
   "nbconvert_exporter": "python",
   "pygments_lexer": "ipython3",
   "version": "3.9.10"
  }
 },
 "nbformat": 4,
 "nbformat_minor": 5
}
