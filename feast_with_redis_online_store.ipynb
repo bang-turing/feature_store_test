{
 "cells": [
  {
   "cell_type": "code",
   "execution_count": 14,
   "id": "68f05dd0",
   "metadata": {},
   "outputs": [
    {
     "data": {
      "text/plain": [
       "True"
      ]
     },
     "execution_count": 14,
     "metadata": {},
     "output_type": "execute_result"
    }
   ],
   "source": [
    "port = 6379\n",
    "import redis\n",
    "client = redis.Redis(host = \"cache\", port = port)\n",
    "client.ping()"
   ]
  },
  {
   "cell_type": "code",
   "execution_count": 1,
   "id": "845b181d",
   "metadata": {},
   "outputs": [
    {
     "name": "stdout",
     "output_type": "stream",
     "text": [
      "The directory \u001b[1m\u001b[32mfeature_repo\u001b[0m contains an existing feature store repository that may cause a conflict\n",
      "\n",
      "/usr/src/feature_repo\n"
     ]
    }
   ],
   "source": [
    "# init repo\n",
    "!feast init feature_repo\n",
    "%cd feature_repo"
   ]
  },
  {
   "cell_type": "code",
   "execution_count": 2,
   "id": "d18c2caf",
   "metadata": {},
   "outputs": [
    {
     "name": "stdout",
     "output_type": "stream",
     "text": [
      "Overwriting feature_store.yaml\n"
     ]
    }
   ],
   "source": [
    "%%writefile feature_store.yaml\n",
    "project: feature_repo\n",
    "registry: data/registry.db\n",
    "provider: local\n",
    "online_store:\n",
    "    type: redis\n",
    "    connection_string: \"cache:6379\"\n",
    "flags:\n",
    "  alpha_features: true\n",
    "  direct_ingest_to_online_store: true"
   ]
  },
  {
   "cell_type": "code",
   "execution_count": 3,
   "id": "f6fdcd76",
   "metadata": {},
   "outputs": [
    {
     "data": {
      "text/html": [
       "<div>\n",
       "<style scoped>\n",
       "    .dataframe tbody tr th:only-of-type {\n",
       "        vertical-align: middle;\n",
       "    }\n",
       "\n",
       "    .dataframe tbody tr th {\n",
       "        vertical-align: top;\n",
       "    }\n",
       "\n",
       "    .dataframe thead th {\n",
       "        text-align: right;\n",
       "    }\n",
       "</style>\n",
       "<table border=\"1\" class=\"dataframe\">\n",
       "  <thead>\n",
       "    <tr style=\"text-align: right;\">\n",
       "      <th></th>\n",
       "      <th>event_timestamp</th>\n",
       "      <th>driver_id</th>\n",
       "      <th>conv_rate</th>\n",
       "      <th>acc_rate</th>\n",
       "      <th>avg_daily_trips</th>\n",
       "      <th>created</th>\n",
       "    </tr>\n",
       "  </thead>\n",
       "  <tbody>\n",
       "    <tr>\n",
       "      <th>0</th>\n",
       "      <td>2022-03-28 03:00:00+00:00</td>\n",
       "      <td>1005</td>\n",
       "      <td>0.831203</td>\n",
       "      <td>0.089688</td>\n",
       "      <td>28500.0</td>\n",
       "      <td>2022-04-12 03:55:33.995</td>\n",
       "    </tr>\n",
       "    <tr>\n",
       "      <th>1</th>\n",
       "      <td>2022-03-28 04:00:00+00:00</td>\n",
       "      <td>1005</td>\n",
       "      <td>0.544201</td>\n",
       "      <td>0.800719</td>\n",
       "      <td>7890.0</td>\n",
       "      <td>2022-04-12 03:55:33.995</td>\n",
       "    </tr>\n",
       "    <tr>\n",
       "      <th>2</th>\n",
       "      <td>2022-03-28 05:00:00+00:00</td>\n",
       "      <td>1005</td>\n",
       "      <td>0.983304</td>\n",
       "      <td>0.344561</td>\n",
       "      <td>3900.0</td>\n",
       "      <td>2022-04-12 03:55:33.995</td>\n",
       "    </tr>\n",
       "    <tr>\n",
       "      <th>3</th>\n",
       "      <td>2022-03-28 06:00:00+00:00</td>\n",
       "      <td>1005</td>\n",
       "      <td>0.410440</td>\n",
       "      <td>0.158432</td>\n",
       "      <td>3780.0</td>\n",
       "      <td>2022-04-12 03:55:33.995</td>\n",
       "    </tr>\n",
       "    <tr>\n",
       "      <th>4</th>\n",
       "      <td>2022-03-28 07:00:00+00:00</td>\n",
       "      <td>1005</td>\n",
       "      <td>0.580665</td>\n",
       "      <td>0.476483</td>\n",
       "      <td>9030.0</td>\n",
       "      <td>2022-04-12 03:55:33.995</td>\n",
       "    </tr>\n",
       "    <tr>\n",
       "      <th>...</th>\n",
       "      <td>...</td>\n",
       "      <td>...</td>\n",
       "      <td>...</td>\n",
       "      <td>...</td>\n",
       "      <td>...</td>\n",
       "      <td>...</td>\n",
       "    </tr>\n",
       "    <tr>\n",
       "      <th>1802</th>\n",
       "      <td>2022-04-12 01:00:00+00:00</td>\n",
       "      <td>1001</td>\n",
       "      <td>0.287030</td>\n",
       "      <td>0.689241</td>\n",
       "      <td>11940.0</td>\n",
       "      <td>2022-04-12 03:55:33.995</td>\n",
       "    </tr>\n",
       "    <tr>\n",
       "      <th>1803</th>\n",
       "      <td>2022-04-12 02:00:00+00:00</td>\n",
       "      <td>1001</td>\n",
       "      <td>0.305528</td>\n",
       "      <td>0.555652</td>\n",
       "      <td>8610.0</td>\n",
       "      <td>2022-04-12 03:55:33.995</td>\n",
       "    </tr>\n",
       "    <tr>\n",
       "      <th>1804</th>\n",
       "      <td>2021-04-12 07:00:00+00:00</td>\n",
       "      <td>1001</td>\n",
       "      <td>0.391705</td>\n",
       "      <td>0.010529</td>\n",
       "      <td>12690.0</td>\n",
       "      <td>2022-04-12 03:55:33.995</td>\n",
       "    </tr>\n",
       "    <tr>\n",
       "      <th>1805</th>\n",
       "      <td>2022-04-04 15:00:00+00:00</td>\n",
       "      <td>1003</td>\n",
       "      <td>0.749271</td>\n",
       "      <td>0.945916</td>\n",
       "      <td>22650.0</td>\n",
       "      <td>2022-04-12 03:55:33.995</td>\n",
       "    </tr>\n",
       "    <tr>\n",
       "      <th>1806</th>\n",
       "      <td>2022-04-04 15:00:00+00:00</td>\n",
       "      <td>1003</td>\n",
       "      <td>0.749271</td>\n",
       "      <td>0.945916</td>\n",
       "      <td>22650.0</td>\n",
       "      <td>2022-04-12 03:55:33.995</td>\n",
       "    </tr>\n",
       "  </tbody>\n",
       "</table>\n",
       "<p>1807 rows × 6 columns</p>\n",
       "</div>"
      ],
      "text/plain": [
       "               event_timestamp  driver_id  conv_rate  acc_rate  \\\n",
       "0    2022-03-28 03:00:00+00:00       1005   0.831203  0.089688   \n",
       "1    2022-03-28 04:00:00+00:00       1005   0.544201  0.800719   \n",
       "2    2022-03-28 05:00:00+00:00       1005   0.983304  0.344561   \n",
       "3    2022-03-28 06:00:00+00:00       1005   0.410440  0.158432   \n",
       "4    2022-03-28 07:00:00+00:00       1005   0.580665  0.476483   \n",
       "...                        ...        ...        ...       ...   \n",
       "1802 2022-04-12 01:00:00+00:00       1001   0.287030  0.689241   \n",
       "1803 2022-04-12 02:00:00+00:00       1001   0.305528  0.555652   \n",
       "1804 2021-04-12 07:00:00+00:00       1001   0.391705  0.010529   \n",
       "1805 2022-04-04 15:00:00+00:00       1003   0.749271  0.945916   \n",
       "1806 2022-04-04 15:00:00+00:00       1003   0.749271  0.945916   \n",
       "\n",
       "      avg_daily_trips                 created  \n",
       "0             28500.0 2022-04-12 03:55:33.995  \n",
       "1              7890.0 2022-04-12 03:55:33.995  \n",
       "2              3900.0 2022-04-12 03:55:33.995  \n",
       "3              3780.0 2022-04-12 03:55:33.995  \n",
       "4              9030.0 2022-04-12 03:55:33.995  \n",
       "...               ...                     ...  \n",
       "1802          11940.0 2022-04-12 03:55:33.995  \n",
       "1803           8610.0 2022-04-12 03:55:33.995  \n",
       "1804          12690.0 2022-04-12 03:55:33.995  \n",
       "1805          22650.0 2022-04-12 03:55:33.995  \n",
       "1806          22650.0 2022-04-12 03:55:33.995  \n",
       "\n",
       "[1807 rows x 6 columns]"
      ]
     },
     "execution_count": 3,
     "metadata": {},
     "output_type": "execute_result"
    }
   ],
   "source": [
    "# Checking the data\n",
    "import pandas as pd\n",
    "data = pd.read_parquet(\"data/driver_stats.parquet\")\n",
    "data = data.astype({'avg_daily_trips': 'float'})\n",
    "# data\n",
    "\n",
    "data[\"avg_daily_trips\"] *=30\n",
    "data.to_parquet('data/test.parquet')\n",
    "# data"
   ]
  },
  {
   "cell_type": "code",
   "execution_count": 4,
   "id": "c4ff98cf",
   "metadata": {},
   "outputs": [
    {
     "name": "stdout",
     "output_type": "stream",
     "text": [
      "\u001b[1m\u001b[94mNo changes to registry\r\n",
      "Deploying infrastructure for \u001b[1m\u001b[32mdriver_hourly_stats\u001b[0m\r\n"
     ]
    }
   ],
   "source": [
    "!feast alpha enable direct_ingest_to_online_store\n",
    "!feast apply"
   ]
  },
  {
   "cell_type": "code",
   "execution_count": 5,
   "id": "f850ecac",
   "metadata": {},
   "outputs": [
    {
     "name": "stdout",
     "output_type": "stream",
     "text": [
      "----- Feature schema -----\n",
      "\n",
      "<class 'pandas.core.frame.DataFrame'>\n",
      "Int64Index: 3 entries, 359 to 1081\n",
      "Data columns (total 6 columns):\n",
      " #   Column                              Non-Null Count  Dtype              \n",
      "---  ------                              --------------  -----              \n",
      " 0   driver_id                           3 non-null      int64              \n",
      " 1   label_driver_reported_satisfaction  3 non-null      int64              \n",
      " 2   event_timestamp                     3 non-null      datetime64[ns, UTC]\n",
      " 3   conv_rate                           3 non-null      float32            \n",
      " 4   acc_rate                            3 non-null      float32            \n",
      " 5   avg_daily_trips                     3 non-null      float64            \n",
      "dtypes: datetime64[ns, UTC](1), float32(2), float64(1), int64(2)\n",
      "memory usage: 144.0 bytes\n",
      "None\n",
      "\n",
      "----- Example features -----\n",
      "\n",
      "      driver_id  label_driver_reported_satisfaction  \\\n",
      "359        1001                                   1   \n",
      "720        1002                                   5   \n",
      "1081       1003                                   3   \n",
      "\n",
      "                      event_timestamp  conv_rate  acc_rate  avg_daily_trips  \n",
      "359  2022-04-12 04:01:24.168067+00:00   0.305528  0.555652           8610.0  \n",
      "720  2022-04-12 03:36:24.168077+00:00   0.104079  0.959222          18150.0  \n",
      "1081 2022-04-12 02:59:24.168079+00:00   0.687481  0.136171          20820.0  \n"
     ]
    }
   ],
   "source": [
    "from datetime import datetime, timedelta\n",
    "import pandas as pd\n",
    "\n",
    "from feast import FeatureStore\n",
    "\n",
    "# The entity dataframe is the dataframe we want to enrich with feature values\n",
    "entity_df = pd.DataFrame.from_dict(\n",
    "    {\n",
    "        \"driver_id\": [1001, 1002, 1003],\n",
    "        \"label_driver_reported_satisfaction\": [1, 5, 3], \n",
    "        \"event_timestamp\": [\n",
    "            datetime.now() - timedelta(minutes=11),\n",
    "            datetime.now() - timedelta(minutes=36),\n",
    "            datetime.now() - timedelta(minutes=73),\n",
    "        ],\n",
    "    }\n",
    ")\n",
    "\n",
    "store = FeatureStore(repo_path=\".\")\n",
    "\n",
    "training_df = store.get_historical_features(\n",
    "    entity_df=entity_df,\n",
    "    features=[\n",
    "        \"driver_hourly_stats:conv_rate\",\n",
    "        \"driver_hourly_stats:acc_rate\",\n",
    "        \"driver_hourly_stats:avg_daily_trips\",\n",
    "    ],\n",
    ").to_df()\n",
    "\n",
    "print(\"----- Feature schema -----\\n\")\n",
    "print(training_df.info())\n",
    "\n",
    "print()\n",
    "print(\"----- Example features -----\\n\")\n",
    "print(training_df.head())"
   ]
  },
  {
   "cell_type": "code",
   "execution_count": 12,
   "id": "dbca7241",
   "metadata": {},
   "outputs": [],
   "source": [
    "provider = store._get_provider()\n",
    "feature_view = store.get_feature_view(\n",
    "    \"driver_hourly_stats\", \n",
    ")\n",
    "entities = []\n",
    "for entity_name in feature_view.entities:\n",
    "    entities.append(\n",
    "        store.get_entity(entity_name)\n",
    "    )\n",
    "training_df[\"created\"] = datetime.now()\n",
    "# training_df\n",
    "# print(entities)\n",
    "store.write_to_online_store(\"driver_hourly_stats\", training_df)\n"
   ]
  },
  {
   "cell_type": "code",
   "execution_count": null,
   "id": "c8cb0d7d",
   "metadata": {},
   "outputs": [],
   "source": []
  },
  {
   "cell_type": "code",
   "execution_count": 13,
   "id": "92073ce8",
   "metadata": {},
   "outputs": [
    {
     "name": "stdout",
     "output_type": "stream",
     "text": [
      "Materializing \u001b[1m\u001b[32m1\u001b[0m feature views to \u001b[1m\u001b[32m2022-04-12 03:57:15+00:00\u001b[0m into the \u001b[1m\u001b[32mredis\u001b[0m online store.\n",
      "\n",
      "\u001b[1m\u001b[32mdriver_hourly_stats\u001b[0m from \u001b[1m\u001b[32m2022-04-11 03:57:16+00:00\u001b[0m to \u001b[1m\u001b[32m2022-04-12 03:57:15+00:00\u001b[0m:\n",
      "100%|███████████████████████████████████████████████████████████████| 5/5 [00:00<00:00, 1679.74it/s]\n"
     ]
    }
   ],
   "source": [
    "from datetime import datetime, date\n",
    "!feast materialize-incremental {datetime.now().isoformat()}\n",
    "\n",
    "# !feast materialize {date.fromisoformat('2019-12-04')} {datetime.now().isoformat()}"
   ]
  },
  {
   "cell_type": "code",
   "execution_count": 13,
   "id": "ef5e84f4",
   "metadata": {},
   "outputs": [
    {
     "name": "stdout",
     "output_type": "stream",
     "text": [
      "{'acc_rate': [0.5556520223617554, 0.9592219591140747],\n",
      " 'avg_daily_trips': [8610.0, 18150.0],\n",
      " 'conv_rate': [0.3055281639099121, 0.10407926142215729],\n",
      " 'driver_id': [1001, 1002]}\n",
      "<class 'float'>\n"
     ]
    }
   ],
   "source": [
    "from pprint import pprint\n",
    "from feast import FeatureStore\n",
    "\n",
    "store = FeatureStore(repo_path=\".\")\n",
    "\n",
    "feature_vector = store.get_online_features(\n",
    "    features=[\n",
    "        \"driver_hourly_stats:conv_rate\",\n",
    "        \"driver_hourly_stats:acc_rate\",\n",
    "        \"driver_hourly_stats:avg_daily_trips\",\n",
    "    ],\n",
    "    entity_rows=[\n",
    "        {\"driver_id\": 1001},\n",
    "        {\"driver_id\": 1002},\n",
    "    ],\n",
    ").to_dict()\n",
    "\n",
    "\n",
    "pprint(feature_vector)\n",
    "pprint(type(feature_vector[\"avg_daily_trips\"][0]))"
   ]
  },
  {
   "cell_type": "code",
   "execution_count": null,
   "id": "d90c82de",
   "metadata": {},
   "outputs": [],
   "source": []
  },
  {
   "cell_type": "code",
   "execution_count": null,
   "id": "38e445f3",
   "metadata": {},
   "outputs": [],
   "source": []
  }
 ],
 "metadata": {
  "kernelspec": {
   "display_name": "Python 3 (ipykernel)",
   "language": "python",
   "name": "python3"
  },
  "language_info": {
   "codemirror_mode": {
    "name": "ipython",
    "version": 3
   },
   "file_extension": ".py",
   "mimetype": "text/x-python",
   "name": "python",
   "nbconvert_exporter": "python",
   "pygments_lexer": "ipython3",
   "version": "3.9.10"
  }
 },
 "nbformat": 4,
 "nbformat_minor": 5
}
